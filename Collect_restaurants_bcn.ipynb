{
 "cells": [
  {
   "cell_type": "code",
   "execution_count": 1,
   "id": "5785e0a0",
   "metadata": {},
   "outputs": [
    {
     "name": "stdout",
     "output_type": "stream",
     "text": [
      "MySQL Server connection successful\n",
      "MySQL Database connection test successful\n"
     ]
    }
   ],
   "source": [
    "from database import database \n",
    "from gmaps_places import gmaps_places\n",
    "import json\n",
    "import geopandas as gpd\n",
    "\n",
    "#Read the API key (this is stored locally and should not be shared!)\n",
    "with open('../keys/API_key_places.txt') as f:\n",
    "    key = f.readlines()[0]\n",
    "\n",
    "# Read the map of BCN\n",
    "geo_bcn = gpd.read_file('bcn-open-data/geo/0301100100_UNITATS_ADM_POLIGONS.json')\n",
    "border = geo_bcn.loc[0].geometry\n",
    "\n",
    "# Create the gmap_places instance\n",
    "places = gmaps_places(key)\n",
    "\n",
    "# Set up the database connection\n",
    "# Read the config file\n",
    "f = open('config_file.json')\n",
    "config = json.load(f)\n",
    "my_db = database(config['host_name'], config['user_name'], config['password'], config['db'])"
   ]
  },
  {
   "cell_type": "code",
   "execution_count": 2,
   "id": "2d80d253",
   "metadata": {},
   "outputs": [],
   "source": [
    "# Create the grid and search \n",
    "places.create_grid_coords(border, distance = 200)\n",
    "search = places.nearby_search(radius = 200)\n",
    "\n",
    "#Insert the search results in the database\n",
    "table = \"restaurants\"\n",
    "for s in search:\n",
    "    my_db.insert_query(table, s)"
   ]
  },
  {
   "attachments": {},
   "cell_type": "markdown",
   "id": "81743947",
   "metadata": {},
   "source": [
    "# Print and save a map of BCN with the restaurants found"
   ]
  },
  {
   "cell_type": "code",
   "execution_count": null,
   "id": "66653368",
   "metadata": {},
   "outputs": [],
   "source": [
    "# BCN municipality border\n",
    "bcn = gpd.GeoSeries(border)\n",
    "\n",
    "# Grid points used for the search\n",
    "bcn_grid = gpd.GeoSeries(grid_points)\n",
    "\n",
    "# Read the coordinates from the database\n",
    "restaurants_loc = my_db.execute_select_query(\"\"\"SELECT loc_x, loc_y FROM restaurant;\"\"\")\n",
    "bcn_rests = gpd.GeoSeries([Point(coord) for coord in restaurants_loc])\n",
    "\n",
    "fig, ax = plt.subplots(1, 1, figsize = (4,4))\n",
    "bcn.boundary.plot(ax = ax, color = 'k', label = 'Municipality border')\n",
    "#bcn_grid.plot(markersize = 0.5, ax = ax)\n",
    "bcn_rests.plot(markersize = 0.5, ax = ax, color = 'r', label = 'Restaurants')\n",
    "fig.legend(loc = 'upper left', frameon = False)\n",
    "ax.set_axis_off()\n",
    "fig.savefig('Map_restaurants_BCN.pdf')\n",
    "fig.savefig('Map_restaurants_BCN.png')"
   ]
  }
 ],
 "metadata": {
  "kernelspec": {
   "display_name": "Python 3 (ipykernel)",
   "language": "python",
   "name": "python3"
  },
  "language_info": {
   "codemirror_mode": {
    "name": "ipython",
    "version": 3
   },
   "file_extension": ".py",
   "mimetype": "text/x-python",
   "name": "python",
   "nbconvert_exporter": "python",
   "pygments_lexer": "ipython3",
   "version": "3.9.13"
  }
 },
 "nbformat": 4,
 "nbformat_minor": 5
}
