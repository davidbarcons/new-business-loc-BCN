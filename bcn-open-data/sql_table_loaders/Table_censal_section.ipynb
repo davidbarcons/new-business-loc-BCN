{
 "cells": [
  {
   "attachments": {},
   "cell_type": "markdown",
   "id": "7b36b7ff",
   "metadata": {},
   "source": [
    "# BCN open data SQL"
   ]
  },
  {
   "cell_type": "code",
   "execution_count": 1,
   "id": "1ac45884",
   "metadata": {},
   "outputs": [],
   "source": [
    "import requests\n",
    "import urllib.parse\n",
    "import pandas as pd\n",
    "from database import database\n",
    "from pyproj import Transformer, CRS\n",
    "import json\n",
    "from tqdm.notebook import tqdm\n",
    "\n",
    "url_base = 'https://opendata-ajuntament.barcelona.cat/data/api/action/datastore_search_sql?sql='\n",
    "# Use generic \"table\" when writing the SQL query for clearer visualization\n",
    "\n",
    "def convert_sql_query_to_bcnod_url (base, query, table_id):\n",
    "    q = query.replace('table', table_id)\n",
    "    q = urllib.parse.quote(q)\n",
    "    return str(base + q)"
   ]
  },
  {
   "cell_type": "code",
   "execution_count": 2,
   "id": "c124d739",
   "metadata": {},
   "outputs": [
    {
     "name": "stdout",
     "output_type": "stream",
     "text": [
      "<class 'pandas.core.frame.DataFrame'>\n",
      "RangeIndex: 171406 entries, 0 to 171405\n",
      "Data columns (total 17 columns):\n",
      " #   Column          Non-Null Count   Dtype \n",
      "---  ------          --------------   ----- \n",
      " 0   LATITUD         171406 non-null  object\n",
      " 1   SECC_EST        171381 non-null  object\n",
      " 2   LLEPOST         171406 non-null  object\n",
      " 3   SECC_CENS       171406 non-null  object\n",
      " 4   ETRS89_COORD_X  171406 non-null  object\n",
      " 5   ETRS89_COORD_Y  171406 non-null  object\n",
      " 6   _full_text      171406 non-null  object\n",
      " 7   CODI_CARRER     171406 non-null  object\n",
      " 8   DTE             171406 non-null  object\n",
      " 9   ED50_COORD_X    171406 non-null  object\n",
      " 10  NUMPOST         171406 non-null  object\n",
      " 11  BARRI           171406 non-null  object\n",
      " 12  ED50_COORD_Y    171406 non-null  object\n",
      " 13  _id             171406 non-null  int64 \n",
      " 14  DIST_POST       171406 non-null  object\n",
      " 15  TIPUSNUM        171406 non-null  object\n",
      " 16  LONGITUD        171406 non-null  object\n",
      "dtypes: int64(1), object(16)\n",
      "memory usage: 22.2+ MB\n"
     ]
    }
   ],
   "source": [
    "table_id = '50c9b17f-d297-4668-bad4-e1c217580747'\n",
    "sql_query = \"\"\"\n",
    "SELECT * from \"table\" \n",
    "\"\"\"\n",
    "\n",
    "api_url = convert_sql_query_to_bcnod_url (url_base, sql_query, table_id)\n",
    "response = requests.get(api_url).json()\n",
    "df = pd.DataFrame(response['result']['records'])\n",
    "df.info()"
   ]
  },
  {
   "attachments": {},
   "cell_type": "markdown",
   "id": "95c92192",
   "metadata": {},
   "source": [
    "# Data cleaning and formatting"
   ]
  },
  {
   "cell_type": "code",
   "execution_count": 3,
   "id": "519e588b",
   "metadata": {},
   "outputs": [],
   "source": [
    "df = df.dropna()\n",
    "columns_to_delete = ['_id','SECC_EST', '_full_text', 'CODI_CARRER', 'ETRS89_COORD_X','ETRS89_COORD_Y', 'ED50_COORD_X', 'ED50_COORD_Y', 'NUMPOST', 'BARRI', 'DIST_POST', 'TIPUSNUM', 'LLEPOST']\n",
    "df = df.drop(columns = columns_to_delete)\n",
    "\n",
    "columns_to_num = ['LATITUD', 'SECC_CENS', 'DTE', 'LONGITUD']\n",
    "for col in columns_to_num:\n",
    "    df[col] = pd.to_numeric(df[col])\n",
    "    \n",
    "# Add local coordinates   \n",
    "coord_transformer = Transformer.from_crs(\"WGS84\", \"EPSG:25831\") # Coordinate transformer\n",
    "df['EPSG_25831_X'] = coord_transformer.transform(df['LATITUD'].to_list(),df['LONGITUD'].to_list())[0]\n",
    "df['EPSG_25831_Y'] = coord_transformer.transform(df['LATITUD'].to_list(),df['LONGITUD'].to_list())[1]"
   ]
  },
  {
   "attachments": {},
   "cell_type": "markdown",
   "id": "593ccc51",
   "metadata": {},
   "source": [
    "# Insert in our database"
   ]
  },
  {
   "cell_type": "code",
   "execution_count": 4,
   "id": "838ead6f",
   "metadata": {},
   "outputs": [
    {
     "name": "stdout",
     "output_type": "stream",
     "text": [
      "MySQL Server connection successful\n",
      "MySQL Database connection test successful\n",
      "Query successful\n"
     ]
    }
   ],
   "source": [
    "f = open('config_file.json')\n",
    "config = json.load(f)\n",
    "table = \"censal_section\"\n",
    "my_db = database(config['host_name'], config['user_name'], config['password'], config['db'])\n",
    "\n",
    "# Create table\n",
    "my_db.execute_query(\"\"\" CREATE TABLE censal_section(\n",
    "id INT AUTO_INCREMENT,\n",
    "DISTRICT INT NOT NULL,\n",
    "CENSAL_SECTION INT NOT NULL,\n",
    "LATITUDE DECIMAL(8,6) NOT NULL,\n",
    "LONGITUDE DECIMAL(8,6) NOT NULL,\n",
    "EPSG_25831_X INT NOT NULL,\n",
    "EPSG_25831_Y INT NOT NULL,\n",
    "PRIMARY KEY (id)\n",
    ")\n",
    "\"\"\")"
   ]
  },
  {
   "cell_type": "code",
   "execution_count": 5,
   "id": "b3908c3d",
   "metadata": {
    "scrolled": false
   },
   "outputs": [
    {
     "data": {
      "application/vnd.jupyter.widget-view+json": {
       "model_id": "4608ee4180c3431cbdbbe1fe3a2c64c5",
       "version_major": 2,
       "version_minor": 0
      },
      "text/plain": [
       "  0%|          | 0/171381 [00:00<?, ?it/s]"
      ]
     },
     "metadata": {},
     "output_type": "display_data"
    },
    {
     "name": "stdout",
     "output_type": "stream",
     "text": [
      "Query successful\n"
     ]
    }
   ],
   "source": [
    "#Insert all data\n",
    "col_names = ['LATITUDE', 'CENSAL_SECTION', 'DISTRICT', 'LONGITUDE', 'EPSG_25831_X', 'EPSG_25831_Y']\n",
    "columns = \", \".join(col_names)\n",
    "\n",
    "query = 'INSERT INTO censal_section ({columns}) VALUES '.format(columns = columns)\n",
    "for row in tqdm(df.index):\n",
    "    vals = \", \".join(\"'{s}'\".format(s=s.replace(\"'\", \"''\")) if isinstance(s, str) else str(s) for s in df.loc[row])\n",
    "    query_line = \"(\" + vals + \") , \"\n",
    "    query = query + query_line\n",
    "    \n",
    "query = query[:-2] + ';'\n",
    "#Insert all rows at once\n",
    "my_db.execute_query(query)"
   ]
  }
 ],
 "metadata": {
  "kernelspec": {
   "display_name": "Python 3 (ipykernel)",
   "language": "python",
   "name": "python3"
  },
  "language_info": {
   "codemirror_mode": {
    "name": "ipython",
    "version": 3
   },
   "file_extension": ".py",
   "mimetype": "text/x-python",
   "name": "python",
   "nbconvert_exporter": "python",
   "pygments_lexer": "ipython3",
   "version": "3.9.13"
  }
 },
 "nbformat": 4,
 "nbformat_minor": 5
}
