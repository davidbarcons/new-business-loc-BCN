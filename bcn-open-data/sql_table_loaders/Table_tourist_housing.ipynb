{
 "cells": [
  {
   "attachments": {},
   "cell_type": "markdown",
   "id": "7b36b7ff",
   "metadata": {},
   "source": [
    "# BCN open data SQL"
   ]
  },
  {
   "cell_type": "code",
   "execution_count": 2,
   "id": "1ac45884",
   "metadata": {},
   "outputs": [],
   "source": [
    "import requests\n",
    "import urllib.parse\n",
    "import pandas as pd\n",
    "from database import database\n",
    "from pyproj import Transformer, CRS\n",
    "import json\n",
    "from tqdm.notebook import tqdm\n",
    "\n",
    "url_base = 'https://opendata-ajuntament.barcelona.cat/data/api/action/datastore_search_sql?sql='\n",
    "# Use generic \"table\" when writing the SQL query for clearer visualization\n",
    "\n",
    "def convert_sql_query_to_bcnod_url (base, query, table_id):\n",
    "    q = query.replace('table', table_id)\n",
    "    q = urllib.parse.quote(q)\n",
    "    return str(base + q)"
   ]
  },
  {
   "cell_type": "code",
   "execution_count": 9,
   "id": "c124d739",
   "metadata": {},
   "outputs": [
    {
     "name": "stdout",
     "output_type": "stream",
     "text": [
      "<class 'pandas.core.frame.DataFrame'>\n",
      "RangeIndex: 1500 entries, 0 to 1499\n",
      "Data columns (total 23 columns):\n",
      " #   Column                       Non-Null Count  Dtype \n",
      "---  ------                       --------------  ----- \n",
      " 0   CODI_DISTRICTE               1500 non-null   object\n",
      " 1   LONGITUD_X                   1500 non-null   object\n",
      " 2   DISTRICTE                    1500 non-null   object\n",
      " 3   ESCALA                       1500 non-null   object\n",
      " 4   TIPUS_NUM                    1500 non-null   object\n",
      " 5   PORTAL                       1500 non-null   object\n",
      " 6   BARRI                        1500 non-null   object\n",
      " 7   TIPUS_CARRER                 1500 non-null   object\n",
      " 8   NUM1                         1500 non-null   object\n",
      " 9   NUM2                         111 non-null    object\n",
      " 10  NUMERO_REGISTRE_GENERALITAT  1500 non-null   object\n",
      " 11  PIS                          1500 non-null   object\n",
      " 12  PORTA                        1500 non-null   object\n",
      " 13  LLETRA2                      1500 non-null   object\n",
      " 14  NUMERO_PLACES                1500 non-null   object\n",
      " 15  N_EXPEDIENT                  1500 non-null   object\n",
      " 16  LLETRA1                      1500 non-null   object\n",
      " 17  _full_text                   1500 non-null   object\n",
      " 18  LATITUD_Y                    1500 non-null   object\n",
      " 19  BLOC                         1500 non-null   object\n",
      " 20  CARRER                       1500 non-null   object\n",
      " 21  CODI_BARRI                   1499 non-null   object\n",
      " 22  _id                          1500 non-null   int64 \n",
      "dtypes: int64(1), object(22)\n",
      "memory usage: 269.7+ KB\n"
     ]
    }
   ],
   "source": [
    "table_id = 'b32fa7f6-d464-403b-8a02-0292a64883bf'\n",
    "sql_query = \"\"\"\n",
    "SELECT * from \"table\" \n",
    "\"\"\"\n",
    "\n",
    "api_url = convert_sql_query_to_bcnod_url (url_base, sql_query, table_id)\n",
    "response = requests.get(api_url).json()\n",
    "df = pd.DataFrame(response['result']['records'])\n",
    "df.info()"
   ]
  },
  {
   "attachments": {},
   "cell_type": "markdown",
   "id": "9b53c57f",
   "metadata": {},
   "source": [
    "# Data cleaning and formatting"
   ]
  },
  {
   "cell_type": "code",
   "execution_count": 10,
   "id": "bf563870",
   "metadata": {},
   "outputs": [
    {
     "name": "stdout",
     "output_type": "stream",
     "text": [
      "<class 'pandas.core.frame.DataFrame'>\n",
      "RangeIndex: 1500 entries, 0 to 1499\n",
      "Data columns (total 3 columns):\n",
      " #   Column         Non-Null Count  Dtype  \n",
      "---  ------         --------------  -----  \n",
      " 0   LONGITUD_X     1500 non-null   float64\n",
      " 1   NUMERO_PLACES  1500 non-null   int64  \n",
      " 2   LATITUD_Y      1500 non-null   float64\n",
      "dtypes: float64(2), int64(1)\n",
      "memory usage: 35.3 KB\n",
      "<class 'pandas.core.frame.DataFrame'>\n",
      "RangeIndex: 1500 entries, 0 to 1499\n",
      "Data columns (total 3 columns):\n",
      " #   Column         Non-Null Count  Dtype  \n",
      "---  ------         --------------  -----  \n",
      " 0   NUMERO_PLACES  1500 non-null   int64  \n",
      " 1   EPSG_25831_X   1500 non-null   float64\n",
      " 2   EPSG_25831_Y   1500 non-null   float64\n",
      "dtypes: float64(2), int64(1)\n",
      "memory usage: 35.3 KB\n"
     ]
    }
   ],
   "source": [
    "#df = df.dropna()\n",
    "\n",
    "# Convert columns values to numeric if possible, otherwise make sure they are stored as strings.\n",
    "columns_to_num = df.columns.tolist()\n",
    "for col in columns_to_num:\n",
    "    try:\n",
    "        df[col] = df[col].astype(str)\n",
    "        df[col] = pd.to_numeric(df[col])\n",
    "    except ValueError:\n",
    "        df[col] = df[col].astype(str)\n",
    "        pass\n",
    "        #raise ('This column is not numeric')        \n",
    "#df.info()\n",
    "\n",
    "# Is it really necessary to delete columns?\n",
    "columns_to_keep = ['LATITUD_Y', 'LONGITUD_X', 'NUMERO_PLACES']\n",
    "for c in df.columns:\n",
    "    if (c not in columns_to_keep):\n",
    "        df = df.drop(columns = c)\n",
    "df.info()\n",
    "\n",
    "# Add local coordinates   \n",
    "coord_transformer = Transformer.from_crs(\"WGS84\", \"EPSG:25831\") # Coordinate transformer\n",
    "df['EPSG_25831_X'] = coord_transformer.transform(df['LATITUD_Y'].to_list(),df['LONGITUD_X'].to_list())[0]\n",
    "df['EPSG_25831_Y'] = coord_transformer.transform(df['LATITUD_Y'].to_list(),df['LONGITUD_X'].to_list())[1]\n",
    "df = df.drop(columns = ['LATITUD_Y', 'LONGITUD_X'] )\n",
    "\n",
    "df.info()\n"
   ]
  },
  {
   "attachments": {},
   "cell_type": "markdown",
   "id": "593ccc51",
   "metadata": {},
   "source": [
    "# Insert in our database"
   ]
  },
  {
   "cell_type": "code",
   "execution_count": 11,
   "id": "838ead6f",
   "metadata": {},
   "outputs": [
    {
     "name": "stdout",
     "output_type": "stream",
     "text": [
      "MySQL Server connection successful\n",
      "MySQL Database connection test successful\n",
      "Query successful\n"
     ]
    }
   ],
   "source": [
    "f = open('config_file.json')\n",
    "config = json.load(f)\n",
    "table = \"tourist_housing\"\n",
    "my_db = database(config['host_name'], config['user_name'], config['password'], config['db'])\n",
    "\n",
    "# Create table\n",
    "my_db.execute_query(\"\"\" CREATE TABLE {table}(\n",
    "id INT AUTO_INCREMENT,\n",
    "CAPACITY INT NOT NULL,\n",
    "EPSG_25831_X INT NOT NULL,\n",
    "EPSG_25831_Y INT NOT NULL,\n",
    "PRIMARY KEY (id)\n",
    ")\n",
    "\"\"\".format(table = table))\n"
   ]
  },
  {
   "cell_type": "code",
   "execution_count": 12,
   "id": "b3908c3d",
   "metadata": {
    "scrolled": false
   },
   "outputs": [
    {
     "data": {
      "application/vnd.jupyter.widget-view+json": {
       "model_id": "d74cc97b96094d20a255119220bb6113",
       "version_major": 2,
       "version_minor": 0
      },
      "text/plain": [
       "  0%|          | 0/1500 [00:00<?, ?it/s]"
      ]
     },
     "metadata": {},
     "output_type": "display_data"
    },
    {
     "name": "stdout",
     "output_type": "stream",
     "text": [
      "Query successful\n"
     ]
    }
   ],
   "source": [
    "#Insert all data\n",
    "col_names = [ 'CAPACITY', 'EPSG_25831_X', 'EPSG_25831_Y']\n",
    "columns = \", \".join(col_names)\n",
    "\n",
    "query = 'INSERT INTO {table} ({columns}) VALUES '.format(columns = columns, table = table)\n",
    "for row in tqdm(df.index):\n",
    "    vals = \", \".join(\"'{s}'\".format(s=s.replace(\"'\", \"''\")) if isinstance(s, str) else str(s) for s in df.loc[row])\n",
    "    query_line = \"(\" + vals + \") , \"\n",
    "    query = query + query_line\n",
    "    \n",
    "query = query[:-2] + ';'\n",
    "#Insert all rows at once\n",
    "my_db.execute_query(query)"
   ]
  }
 ],
 "metadata": {
  "kernelspec": {
   "display_name": "Python 3 (ipykernel)",
   "language": "python",
   "name": "python3"
  },
  "language_info": {
   "codemirror_mode": {
    "name": "ipython",
    "version": 3
   },
   "file_extension": ".py",
   "mimetype": "text/x-python",
   "name": "python",
   "nbconvert_exporter": "python",
   "pygments_lexer": "ipython3",
   "version": "3.9.13"
  }
 },
 "nbformat": 4,
 "nbformat_minor": 5
}
