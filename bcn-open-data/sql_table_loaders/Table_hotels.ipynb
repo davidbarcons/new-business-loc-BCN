{
 "cells": [
  {
   "attachments": {},
   "cell_type": "markdown",
   "id": "7b36b7ff",
   "metadata": {},
   "source": [
    "# BCN open data SQL"
   ]
  },
  {
   "cell_type": "code",
   "execution_count": 5,
   "id": "1ac45884",
   "metadata": {},
   "outputs": [
    {
     "ename": "ImportError",
     "evalue": "attempted relative import with no known parent package",
     "output_type": "error",
     "traceback": [
      "\u001b[1;31m---------------------------------------------------------------------------\u001b[0m",
      "\u001b[1;31mImportError\u001b[0m                               Traceback (most recent call last)",
      "\u001b[1;32m~\\AppData\\Local\\Temp\\ipykernel_20380\\2619331176.py\u001b[0m in \u001b[0;36m<module>\u001b[1;34m\u001b[0m\n\u001b[0;32m      2\u001b[0m \u001b[1;32mimport\u001b[0m \u001b[0murllib\u001b[0m\u001b[1;33m.\u001b[0m\u001b[0mparse\u001b[0m\u001b[1;33m\u001b[0m\u001b[1;33m\u001b[0m\u001b[0m\n\u001b[0;32m      3\u001b[0m \u001b[1;32mimport\u001b[0m \u001b[0mpandas\u001b[0m \u001b[1;32mas\u001b[0m \u001b[0mpd\u001b[0m\u001b[1;33m\u001b[0m\u001b[1;33m\u001b[0m\u001b[0m\n\u001b[1;32m----> 4\u001b[1;33m \u001b[1;32mfrom\u001b[0m \u001b[1;33m...\u001b[0m\u001b[0mdatabase\u001b[0m \u001b[1;32mimport\u001b[0m \u001b[0mdatabase\u001b[0m\u001b[1;33m\u001b[0m\u001b[1;33m\u001b[0m\u001b[0m\n\u001b[0m\u001b[0;32m      5\u001b[0m \u001b[1;32mfrom\u001b[0m \u001b[0mpyproj\u001b[0m \u001b[1;32mimport\u001b[0m \u001b[0mTransformer\u001b[0m\u001b[1;33m,\u001b[0m \u001b[0mCRS\u001b[0m\u001b[1;33m\u001b[0m\u001b[1;33m\u001b[0m\u001b[0m\n\u001b[0;32m      6\u001b[0m \u001b[1;32mimport\u001b[0m \u001b[0mjson\u001b[0m\u001b[1;33m\u001b[0m\u001b[1;33m\u001b[0m\u001b[0m\n",
      "\u001b[1;31mImportError\u001b[0m: attempted relative import with no known parent package"
     ]
    }
   ],
   "source": [
    "import requests\n",
    "import urllib.parse\n",
    "import pandas as pd\n",
    "from database import database\n",
    "from pyproj import Transformer, CRS\n",
    "import json\n",
    "from tqdm.notebook import tqdm\n",
    "\n",
    "url_base = 'https://opendata-ajuntament.barcelona.cat/data/api/action/datastore_search_sql?sql='\n",
    "# Use generic \"table\" when writing the SQL query for clearer visualization\n",
    "\n",
    "def convert_sql_query_to_bcnod_url (base, query, table_id):\n",
    "    q = query.replace('table', table_id)\n",
    "    q = urllib.parse.quote(q)\n",
    "    return str(base + q)"
   ]
  },
  {
   "cell_type": "code",
   "execution_count": 2,
   "id": "c124d739",
   "metadata": {},
   "outputs": [
    {
     "name": "stdout",
     "output_type": "stream",
     "text": [
      "<class 'pandas.core.frame.DataFrame'>\n",
      "RangeIndex: 441 entries, 0 to 440\n",
      "Data columns (total 38 columns):\n",
      " #   Column                         Non-Null Count  Dtype \n",
      "---  ------                         --------------  ----- \n",
      " 0   addresses_roadtype_name        441 non-null    object\n",
      " 1   addresses_end_street_number    13 non-null     object\n",
      " 2   institution_name               441 non-null    object\n",
      " 3   values_attribute_name          441 non-null    object\n",
      " 4   addresses_road_name            441 non-null    object\n",
      " 5   values_category                441 non-null    object\n",
      " 6   addresses_zip_code             441 non-null    object\n",
      " 7   secondary_filters_id           441 non-null    object\n",
      " 8   values_value                   441 non-null    object\n",
      " 9   addresses_town                 441 non-null    object\n",
      " 10  geo_epgs_4326_y                441 non-null    object\n",
      " 11  geo_epgs_4326_x                441 non-null    object\n",
      " 12  secondary_filters_name         441 non-null    object\n",
      " 13  secondary_filters_tree         441 non-null    object\n",
      " 14  addresses_district_name        441 non-null    object\n",
      " 15  geo_epgs_25831_x               441 non-null    object\n",
      " 16  addresses_start_street_number  439 non-null    object\n",
      " 17  register_id                    441 non-null    object\n",
      " 18  institution_id                 441 non-null    object\n",
      " 19  addresses_main_address         441 non-null    object\n",
      " 20  addresses_district_id          441 non-null    object\n",
      " 21  addresses_roadtype_id          441 non-null    object\n",
      " 22  addresses_type                 441 non-null    object\n",
      " 23  addresses_neighborhood_id      441 non-null    object\n",
      " 24  values_id                      440 non-null    object\n",
      " 25  name                           441 non-null    object\n",
      " 26  addresses_road_id              441 non-null    object\n",
      " 27  created                        441 non-null    object\n",
      " 28  geo_epgs_25831_y               441 non-null    object\n",
      " 29  _full_text                     441 non-null    object\n",
      " 30  modified                       441 non-null    object\n",
      " 31  secondary_filters_asia_id      441 non-null    object\n",
      " 32  secondary_filters_fullpath     441 non-null    object\n",
      " 33  values_description             441 non-null    object\n",
      " 34  _id                            441 non-null    int64 \n",
      " 35  addresses_neighborhood_name    441 non-null    object\n",
      " 36  values_outstanding             441 non-null    object\n",
      " 37  values_attribute_id            440 non-null    object\n",
      "dtypes: int64(1), object(37)\n",
      "memory usage: 131.0+ KB\n"
     ]
    }
   ],
   "source": [
    "table_id = '9bccce1b-0b9d-4cc6-94a7-459cb99450de'\n",
    "sql_query = \"\"\"\n",
    "SELECT * from \"table\" \n",
    "\"\"\"\n",
    "\n",
    "api_url = convert_sql_query_to_bcnod_url (url_base, sql_query, table_id)\n",
    "response = requests.get(api_url).json()\n",
    "df = pd.DataFrame(response['result']['records'])\n",
    "df.info()"
   ]
  },
  {
   "attachments": {},
   "cell_type": "markdown",
   "id": "9b53c57f",
   "metadata": {},
   "source": [
    "# Data cleaning and formatting"
   ]
  },
  {
   "cell_type": "code",
   "execution_count": 3,
   "id": "bf563870",
   "metadata": {},
   "outputs": [
    {
     "name": "stdout",
     "output_type": "stream",
     "text": [
      "<class 'pandas.core.frame.DataFrame'>\n",
      "RangeIndex: 441 entries, 0 to 440\n",
      "Data columns (total 3 columns):\n",
      " #   Column            Non-Null Count  Dtype  \n",
      "---  ------            --------------  -----  \n",
      " 0   geo_epgs_25831_x  441 non-null    float64\n",
      " 1   name              441 non-null    object \n",
      " 2   geo_epgs_25831_y  441 non-null    float64\n",
      "dtypes: float64(2), object(1)\n",
      "memory usage: 10.5+ KB\n"
     ]
    }
   ],
   "source": [
    "#df = df.dropna()\n",
    "\n",
    "# Convert columns values to numeric if possible, otherwise make sure they are stored as strings.\n",
    "columns_to_num = df.columns.tolist()\n",
    "for col in columns_to_num:\n",
    "    try:\n",
    "        df[col] = df[col].astype(str)\n",
    "        df[col] = pd.to_numeric(df[col])\n",
    "    except ValueError:\n",
    "        df[col] = df[col].astype(str)\n",
    "        pass\n",
    "        #raise ('This column is not numeric')        \n",
    "#df.info()\n",
    "\n",
    "# Is it really necessary to delete columns?\n",
    "columns_to_keep = ['geo_epgs_25831_x', 'geo_epgs_25831_y', 'name']\n",
    "for c in df.columns:\n",
    "    if (c not in columns_to_keep):\n",
    "        df = df.drop(columns = c)\n",
    "df.info()"
   ]
  },
  {
   "attachments": {},
   "cell_type": "markdown",
   "id": "593ccc51",
   "metadata": {},
   "source": [
    "# Insert in our database"
   ]
  },
  {
   "cell_type": "code",
   "execution_count": 4,
   "id": "838ead6f",
   "metadata": {},
   "outputs": [
    {
     "name": "stdout",
     "output_type": "stream",
     "text": [
      "MySQL Server connection successful\n",
      "MySQL Database connection test successful\n",
      "Query successful\n"
     ]
    }
   ],
   "source": [
    "f = open('config_file.json')\n",
    "config = json.load(f)\n",
    "table = \"hotels\"\n",
    "my_db = database(config['host_name'], config['user_name'], config['password'], config['db'])\n",
    "\n",
    "# Create table\n",
    "my_db.execute_query(\"\"\" CREATE TABLE {table}(\n",
    "id INT AUTO_INCREMENT,\n",
    "NAME VARCHAR(100) NOT NULL,\n",
    "EPSG_25831_X INT NOT NULL,\n",
    "EPSG_25831_Y INT NOT NULL,\n",
    "PRIMARY KEY (id)\n",
    ")\n",
    "\"\"\".format(table = table))\n"
   ]
  },
  {
   "cell_type": "code",
   "execution_count": 5,
   "id": "b3908c3d",
   "metadata": {
    "scrolled": false
   },
   "outputs": [
    {
     "data": {
      "application/vnd.jupyter.widget-view+json": {
       "model_id": "148666e18fca4273b4137e6fe72f5daf",
       "version_major": 2,
       "version_minor": 0
      },
      "text/plain": [
       "  0%|          | 0/441 [00:00<?, ?it/s]"
      ]
     },
     "metadata": {},
     "output_type": "display_data"
    },
    {
     "name": "stdout",
     "output_type": "stream",
     "text": [
      "Query successful\n"
     ]
    }
   ],
   "source": [
    "#Insert all data\n",
    "col_names = ['EPSG_25831_X', 'NAME', 'EPSG_25831_Y']\n",
    "columns = \", \".join(col_names)\n",
    "\n",
    "query = 'INSERT INTO {table} ({columns}) VALUES '.format(columns = columns, table = table)\n",
    "for row in tqdm(df.index):\n",
    "    vals = \", \".join(\"'{s}'\".format(s=s.replace(\"'\", \"''\")) if isinstance(s, str) else str(s) for s in df.loc[row])\n",
    "    query_line = \"(\" + vals + \") , \"\n",
    "    query = query + query_line\n",
    "    \n",
    "query = query[:-2] + ';'\n",
    "#Insert all rows at once\n",
    "my_db.execute_query(query)"
   ]
  }
 ],
 "metadata": {
  "kernelspec": {
   "display_name": "Python 3 (ipykernel)",
   "language": "python",
   "name": "python3"
  },
  "language_info": {
   "codemirror_mode": {
    "name": "ipython",
    "version": 3
   },
   "file_extension": ".py",
   "mimetype": "text/x-python",
   "name": "python",
   "nbconvert_exporter": "python",
   "pygments_lexer": "ipython3",
   "version": "3.9.13"
  }
 },
 "nbformat": 4,
 "nbformat_minor": 5
}
