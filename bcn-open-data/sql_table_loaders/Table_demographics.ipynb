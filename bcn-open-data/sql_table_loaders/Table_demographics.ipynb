{
 "cells": [
  {
   "attachments": {},
   "cell_type": "markdown",
   "id": "7b36b7ff",
   "metadata": {},
   "source": [
    "# BCN open data SQL"
   ]
  },
  {
   "cell_type": "code",
   "execution_count": 1,
   "id": "1ac45884",
   "metadata": {},
   "outputs": [],
   "source": [
    "import requests\n",
    "import urllib.parse\n",
    "import pandas as pd\n",
    "from database import database\n",
    "from pyproj import Transformer, CRS\n",
    "import json\n",
    "from tqdm.notebook import tqdm\n",
    "\n",
    "url_base = 'https://opendata-ajuntament.barcelona.cat/data/api/action/datastore_search_sql?sql='\n",
    "# Use generic \"table\" when writing the SQL query for clearer visualization\n",
    "\n",
    "def convert_sql_query_to_bcnod_url (base, query, table_id):\n",
    "    q = query.replace('table', table_id)\n",
    "    q = urllib.parse.quote(q)\n",
    "    return str(base + q)"
   ]
  },
  {
   "cell_type": "code",
   "execution_count": 37,
   "id": "c124d739",
   "metadata": {},
   "outputs": [
    {
     "name": "stdout",
     "output_type": "stream",
     "text": [
      "<class 'pandas.core.frame.DataFrame'>\n",
      "RangeIndex: 1068 entries, 0 to 1067\n",
      "Data columns (total 13 columns):\n",
      " #   Column         Non-Null Count  Dtype \n",
      "---  ------         --------------  ----- \n",
      " 0   HOMES          1068 non-null   object\n",
      " 1   EDAT_0_A_14    1068 non-null   object\n",
      " 2   EDAT_65_A_MES  1068 non-null   object\n",
      " 3   DONES          1068 non-null   object\n",
      " 4   EDAT_25_A_64   1068 non-null   object\n",
      " 5   COMUNITARIS    1068 non-null   object\n",
      " 6   _full_text     1068 non-null   object\n",
      " 7   NACIONALS      1068 non-null   object\n",
      " 8   DATA_DADES     1068 non-null   object\n",
      " 9   EDAT_15_A_24   1068 non-null   object\n",
      " 10  SECCIO_CENSAL  1068 non-null   object\n",
      " 11  _id            1068 non-null   int64 \n",
      " 12  ESTRANGERS     1068 non-null   object\n",
      "dtypes: int64(1), object(12)\n",
      "memory usage: 108.6+ KB\n"
     ]
    }
   ],
   "source": [
    "table_id = 'f1d9d5aa-61d7-460e-b423-1bbfff96fab3'\n",
    "sql_query = \"\"\"\n",
    "SELECT * from \"table\" \n",
    "\"\"\"\n",
    "\n",
    "api_url = convert_sql_query_to_bcnod_url (url_base, sql_query, table_id)\n",
    "response = requests.get(api_url).json()\n",
    "df = pd.DataFrame(response['result']['records'])\n",
    "df.info()"
   ]
  },
  {
   "attachments": {},
   "cell_type": "markdown",
   "id": "9b53c57f",
   "metadata": {},
   "source": [
    "# Data cleaning and formatting"
   ]
  },
  {
   "cell_type": "code",
   "execution_count": 38,
   "id": "bf563870",
   "metadata": {},
   "outputs": [
    {
     "name": "stdout",
     "output_type": "stream",
     "text": [
      "<class 'pandas.core.frame.DataFrame'>\n",
      "RangeIndex: 1068 entries, 0 to 1067\n",
      "Data columns (total 11 columns):\n",
      " #   Column          Non-Null Count  Dtype\n",
      "---  ------          --------------  -----\n",
      " 0   HOMES           1068 non-null   int64\n",
      " 1   EDAT_0_A_14     1068 non-null   int64\n",
      " 2   EDAT_65_A_MES   1068 non-null   int64\n",
      " 3   DONES           1068 non-null   int64\n",
      " 4   EDAT_25_A_64    1068 non-null   int64\n",
      " 5   COMUNITARIS     1068 non-null   int64\n",
      " 6   NACIONALS       1068 non-null   int64\n",
      " 7   EDAT_15_A_24    1068 non-null   int64\n",
      " 8   ESTRANGERS      1068 non-null   int64\n",
      " 9   CENSAL_SECTION  1068 non-null   int64\n",
      " 10  DISTRICT        1068 non-null   int64\n",
      "dtypes: int64(11)\n",
      "memory usage: 91.9 KB\n"
     ]
    }
   ],
   "source": [
    "df = df.dropna()\n",
    "\n",
    "# We need to split the censal section and district since in this table it is in a different format\n",
    "df['CENSAL_SECTION'] = df['SECCIO_CENSAL'].str[-3:]\n",
    "df['DISTRICT'] = df['SECCIO_CENSAL'].str[-5:-3]\n",
    "\n",
    "# Convert columns values to numeric if possible, otherwise make sure they are stored as strings.\n",
    "columns_to_num = df.columns.tolist()\n",
    "for col in columns_to_num:\n",
    "    try:\n",
    "        df[col] = df[col].astype(str)\n",
    "        df[col] = pd.to_numeric(df[col])\n",
    "    except ValueError:\n",
    "        df[col] = df[col].astype(str)\n",
    "        pass\n",
    "        #raise ('This column is not numeric')        \n",
    "#df.info()\n",
    "\n",
    "# Is it really necessary to delete columns?\n",
    "columns_to_delete = df.columns[[6,8,10,11]]\n",
    "df = df.drop(columns = columns_to_delete)\n",
    "df.info()\n",
    "\n",
    "# Add local coordinates   \n",
    "#coord_transformer = Transformer.from_crs(\"WGS84\", \"EPSG:25831\") # Coordinate transformer\n",
    "#df['EPSG_25831_X'] = coord_transformer.transform(df['LATITUD'].to_list(),df['LONGITUD'].to_list())[0]\n",
    "#df['EPSG_25831_Y'] = coord_transformer.transform(df['LATITUD'].to_list(),df['LONGITUD'].to_list())[1]dd"
   ]
  },
  {
   "attachments": {},
   "cell_type": "markdown",
   "id": "593ccc51",
   "metadata": {},
   "source": [
    "# Insert in our database"
   ]
  },
  {
   "cell_type": "code",
   "execution_count": 40,
   "id": "838ead6f",
   "metadata": {},
   "outputs": [
    {
     "name": "stdout",
     "output_type": "stream",
     "text": [
      "MySQL Server connection successful\n",
      "MySQL Database connection test successful\n",
      "Query successful\n"
     ]
    }
   ],
   "source": [
    "f = open('config_file.json')\n",
    "config = json.load(f)\n",
    "table = \"demographics\"\n",
    "my_db = database(config['host_name'], config['user_name'], config['password'], config['db'])\n",
    "\n",
    "# Create table\n",
    "my_db.execute_query(\"\"\" CREATE TABLE {table}(\n",
    "id INT AUTO_INCREMENT,\n",
    "DISTRICT INT NOT NULL,\n",
    "CENSAL_SECTION INT NOT NULL,\n",
    "MEN INT NOT NULL,\n",
    "WOMEN INT NOT NULL,\n",
    "AGED_0_TO_14 INT NOT NULL,\n",
    "AGED_15_TO_24 INT NOT NULL,\n",
    "AGED_25_TO_64 INT NOT NULL,\n",
    "AGED_ABOVE_65 INT NOT NULL,\n",
    "NATIONALS INT NOT NULL,\n",
    "EU INT NOT NULL,\n",
    "NON_EU INT NOT NULL,\n",
    "PRIMARY KEY (id)\n",
    ")\n",
    "\"\"\".format(table = table))\n",
    "#LATITUDE DECIMAL(8,6) NOT NULL,\n",
    "#LONGITUDE DECIMAL(8,6) NOT NULL,\n",
    "#EPSG_25831_X INT NOT NULL,\n",
    "#EPSG_25831_Y INT NOT NULL,"
   ]
  },
  {
   "cell_type": "code",
   "execution_count": 41,
   "id": "b3908c3d",
   "metadata": {
    "scrolled": false
   },
   "outputs": [
    {
     "data": {
      "application/vnd.jupyter.widget-view+json": {
       "model_id": "cef2e18bc3e34ee48dc80ab44f2869c8",
       "version_major": 2,
       "version_minor": 0
      },
      "text/plain": [
       "  0%|          | 0/1068 [00:00<?, ?it/s]"
      ]
     },
     "metadata": {},
     "output_type": "display_data"
    },
    {
     "name": "stdout",
     "output_type": "stream",
     "text": [
      "Query successful\n"
     ]
    }
   ],
   "source": [
    "#Insert all data\n",
    "col_names = ['MEN', 'AGED_0_TO_14', 'AGED_ABOVE_65','WOMEN', 'AGED_25_TO_64', 'EU', 'NATIONALS', 'AGED_15_TO_24', 'NON_EU','CENSAL_SECTION', 'DISTRICT']\n",
    "columns = \", \".join(col_names)\n",
    "\n",
    "query = 'INSERT INTO {table} ({columns}) VALUES '.format(columns = columns, table = table)\n",
    "for row in tqdm(df.index):\n",
    "    vals = \", \".join(\"'{s}'\".format(s=s.replace(\"'\", \"''\")) if isinstance(s, str) else str(s) for s in df.loc[row])\n",
    "    query_line = \"(\" + vals + \") , \"\n",
    "    query = query + query_line\n",
    "    \n",
    "query = query[:-2] + ';'\n",
    "#Insert all rows at once\n",
    "my_db.execute_query(query)"
   ]
  }
 ],
 "metadata": {
  "kernelspec": {
   "display_name": "Python 3 (ipykernel)",
   "language": "python",
   "name": "python3"
  },
  "language_info": {
   "codemirror_mode": {
    "name": "ipython",
    "version": 3
   },
   "file_extension": ".py",
   "mimetype": "text/x-python",
   "name": "python",
   "nbconvert_exporter": "python",
   "pygments_lexer": "ipython3",
   "version": "3.9.13"
  }
 },
 "nbformat": 4,
 "nbformat_minor": 5
}
