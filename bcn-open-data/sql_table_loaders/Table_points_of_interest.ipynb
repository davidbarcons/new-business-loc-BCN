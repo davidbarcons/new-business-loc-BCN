{
 "cells": [
  {
   "attachments": {},
   "cell_type": "markdown",
   "id": "7b36b7ff",
   "metadata": {},
   "source": [
    "# BCN open data SQL"
   ]
  },
  {
   "cell_type": "code",
   "execution_count": 1,
   "id": "1ac45884",
   "metadata": {},
   "outputs": [],
   "source": [
    "import requests\n",
    "import urllib.parse\n",
    "import pandas as pd\n",
    "from database import database\n",
    "from pyproj import Transformer, CRS\n",
    "import json\n",
    "from tqdm.notebook import tqdm\n",
    "\n",
    "url_base = 'https://opendata-ajuntament.barcelona.cat/data/api/action/datastore_search_sql?sql='\n",
    "# Use generic \"table\" when writing the SQL query for clearer visualization\n",
    "\n",
    "def convert_sql_query_to_bcnod_url (base, query, table_id):\n",
    "    q = query.replace('table', table_id)\n",
    "    q = urllib.parse.quote(q)\n",
    "    return str(base + q)"
   ]
  },
  {
   "cell_type": "code",
   "execution_count": 2,
   "id": "c124d739",
   "metadata": {},
   "outputs": [
    {
     "name": "stdout",
     "output_type": "stream",
     "text": [
      "<class 'pandas.core.frame.DataFrame'>\n",
      "RangeIndex: 871 entries, 0 to 870\n",
      "Data columns (total 33 columns):\n",
      " #   Column                         Non-Null Count  Dtype \n",
      "---  ------                         --------------  ----- \n",
      " 0   addresses_roadtype_name        871 non-null    object\n",
      " 1   addresses_end_street_number    49 non-null     object\n",
      " 2   institution_name               871 non-null    object\n",
      " 3   values_attribute_name          871 non-null    object\n",
      " 4   addresses_road_name            871 non-null    object\n",
      " 5   values_category                871 non-null    object\n",
      " 6   addresses_zip_code             871 non-null    object\n",
      " 7   values_value                   871 non-null    object\n",
      " 8   addresses_town                 871 non-null    object\n",
      " 9   geo_epgs_4326_y                871 non-null    object\n",
      " 10  geo_epgs_4326_x                871 non-null    object\n",
      " 11  addresses_district_name        871 non-null    object\n",
      " 12  geo_epgs_25831_x               871 non-null    object\n",
      " 13  addresses_start_street_number  849 non-null    object\n",
      " 14  register_id                    871 non-null    object\n",
      " 15  institution_id                 23 non-null     object\n",
      " 16  addresses_main_address         871 non-null    object\n",
      " 17  addresses_district_id          871 non-null    object\n",
      " 18  addresses_roadtype_id          871 non-null    object\n",
      " 19  addresses_type                 871 non-null    object\n",
      " 20  addresses_neighborhood_id      871 non-null    object\n",
      " 21  values_id                      591 non-null    object\n",
      " 22  name                           871 non-null    object\n",
      " 23  addresses_road_id              871 non-null    object\n",
      " 24  created                        871 non-null    object\n",
      " 25  geo_epgs_25831_y               871 non-null    object\n",
      " 26  _full_text                     871 non-null    object\n",
      " 27  modified                       871 non-null    object\n",
      " 28  values_description             871 non-null    object\n",
      " 29  _id                            871 non-null    int64 \n",
      " 30  addresses_neighborhood_name    871 non-null    object\n",
      " 31  values_outstanding             871 non-null    object\n",
      " 32  values_attribute_id            591 non-null    object\n",
      "dtypes: int64(1), object(32)\n",
      "memory usage: 224.7+ KB\n"
     ]
    }
   ],
   "source": [
    "table_id = '31431b23-d5b9-42b8-bcd0-a84da9d8c7fa'\n",
    "sql_query = \"\"\"\n",
    "SELECT * from \"table\" \n",
    "\"\"\"\n",
    "\n",
    "api_url = convert_sql_query_to_bcnod_url (url_base, sql_query, table_id)\n",
    "response = requests.get(api_url).json()\n",
    "df = pd.DataFrame(response['result']['records'])\n",
    "df.info()"
   ]
  },
  {
   "cell_type": "code",
   "execution_count": 4,
   "id": "fe560ecc",
   "metadata": {},
   "outputs": [
    {
     "data": {
      "text/plain": [
       "81"
      ]
     },
     "execution_count": 4,
     "metadata": {},
     "output_type": "execute_result"
    }
   ],
   "source": [
    "max([len(d) for d in df['name']])"
   ]
  },
  {
   "attachments": {},
   "cell_type": "markdown",
   "id": "9b53c57f",
   "metadata": {},
   "source": [
    "# Data cleaning and formatting"
   ]
  },
  {
   "cell_type": "code",
   "execution_count": 15,
   "id": "bf563870",
   "metadata": {},
   "outputs": [
    {
     "name": "stdout",
     "output_type": "stream",
     "text": [
      "<class 'pandas.core.frame.DataFrame'>\n",
      "RangeIndex: 141 entries, 0 to 140\n",
      "Data columns (total 4 columns):\n",
      " #   Column                  Non-Null Count  Dtype  \n",
      "---  ------                  --------------  -----  \n",
      " 0   secondary_filters_name  141 non-null    object \n",
      " 1   geo_epgs_25831_x        141 non-null    float64\n",
      " 2   name                    141 non-null    object \n",
      " 3   geo_epgs_25831_y        141 non-null    float64\n",
      "dtypes: float64(2), object(2)\n",
      "memory usage: 4.5+ KB\n"
     ]
    }
   ],
   "source": [
    "#df = df.dropna()\n",
    "\n",
    "# Convert columns values to numeric if possible, otherwise make sure they are stored as strings.\n",
    "columns_to_num = df.columns.tolist()\n",
    "for col in columns_to_num:\n",
    "    try:\n",
    "        df[col] = df[col].astype(str)\n",
    "        df[col] = pd.to_numeric(df[col])\n",
    "    except ValueError:\n",
    "        df[col] = df[col].astype(str)\n",
    "        pass\n",
    "        #raise ('This column is not numeric')        \n",
    "#df.info()\n",
    "\n",
    "# Is it really necessary to delete columns?\n",
    "columns_to_keep = ['geo_epgs_25831_y', 'geo_epgs_25831_x', 'name', 'secondary_filters_name']\n",
    "for c in df.columns:\n",
    "    if (c not in columns_to_keep):\n",
    "        df = df.drop(columns = c)\n",
    "df.info()\n",
    "\n",
    "# Add local coordinates   \n",
    "#coord_transformer = Transformer.from_crs(\"WGS84\", \"EPSG:25831\") # Coordinate transformer\n",
    "#df['EPSG_25831_X'] = coord_transformer.transform(df['LATITUD'].to_list(),df['LONGITUD'].to_list())[0]\n",
    "#df['EPSG_25831_Y'] = coord_transformer.transform(df['LATITUD'].to_list(),df['LONGITUD'].to_list())[1]"
   ]
  },
  {
   "attachments": {},
   "cell_type": "markdown",
   "id": "593ccc51",
   "metadata": {},
   "source": [
    "# Insert in our database"
   ]
  },
  {
   "cell_type": "code",
   "execution_count": 16,
   "id": "838ead6f",
   "metadata": {},
   "outputs": [
    {
     "name": "stdout",
     "output_type": "stream",
     "text": [
      "MySQL Server connection successful\n",
      "MySQL Database connection test successful\n",
      "Query successful\n"
     ]
    }
   ],
   "source": [
    "f = open('config_file.json')\n",
    "config = json.load(f)\n",
    "table = \"medical_centers\"\n",
    "my_db = database(config['host_name'], config['user_name'], config['password'], config['db'])\n",
    "\n",
    "# Create table\n",
    "my_db.execute_query(\"\"\" CREATE TABLE {table}(\n",
    "id INT AUTO_INCREMENT,\n",
    "NAME VARCHAR(85) NOT NULL,\n",
    "TYPE VARCHAR(60) NOT NULL,\n",
    "EPSG_25831_X INT NOT NULL,\n",
    "EPSG_25831_Y INT NOT NULL,\n",
    "PRIMARY KEY (id)\n",
    ")\n",
    "\"\"\".format(table = table))\n"
   ]
  },
  {
   "cell_type": "code",
   "execution_count": 17,
   "id": "b3908c3d",
   "metadata": {
    "scrolled": false
   },
   "outputs": [
    {
     "data": {
      "application/vnd.jupyter.widget-view+json": {
       "model_id": "ad5afc0fefe548c0818cad7df98e329f",
       "version_major": 2,
       "version_minor": 0
      },
      "text/plain": [
       "  0%|          | 0/141 [00:00<?, ?it/s]"
      ]
     },
     "metadata": {},
     "output_type": "display_data"
    },
    {
     "name": "stdout",
     "output_type": "stream",
     "text": [
      "Query successful\n"
     ]
    }
   ],
   "source": [
    "#Insert all data\n",
    "col_names = [ 'TYPE', 'EPSG_25831_X', 'NAME', 'EPSG_25831_Y']\n",
    "columns = \", \".join(col_names)\n",
    "\n",
    "query = 'INSERT INTO {table} ({columns}) VALUES '.format(columns = columns, table = table)\n",
    "for row in tqdm(df.index):\n",
    "    vals = \", \".join(\"'{s}'\".format(s=s.replace(\"'\", \"''\")) if isinstance(s, str) else str(s) for s in df.loc[row])\n",
    "    query_line = \"(\" + vals + \") , \"\n",
    "    query = query + query_line\n",
    "    \n",
    "query = query[:-2] + ';'\n",
    "#Insert all rows at once\n",
    "my_db.execute_query(query)"
   ]
  }
 ],
 "metadata": {
  "kernelspec": {
   "display_name": "Python 3 (ipykernel)",
   "language": "python",
   "name": "python3"
  },
  "language_info": {
   "codemirror_mode": {
    "name": "ipython",
    "version": 3
   },
   "file_extension": ".py",
   "mimetype": "text/x-python",
   "name": "python",
   "nbconvert_exporter": "python",
   "pygments_lexer": "ipython3",
   "version": "3.9.13"
  }
 },
 "nbformat": 4,
 "nbformat_minor": 5
}
