{
 "cells": [
  {
   "attachments": {},
   "cell_type": "markdown",
   "id": "7b36b7ff",
   "metadata": {},
   "source": [
    "# BCN open data SQL"
   ]
  },
  {
   "cell_type": "code",
   "execution_count": 1,
   "id": "1ac45884",
   "metadata": {},
   "outputs": [],
   "source": [
    "import requests\n",
    "import urllib.parse\n",
    "import pandas as pd\n",
    "from database import database\n",
    "from pyproj import Transformer, CRS\n",
    "import json\n",
    "from tqdm.notebook import tqdm\n",
    "\n",
    "url_base = 'https://opendata-ajuntament.barcelona.cat/data/api/action/datastore_search_sql?sql='\n",
    "# Use generic \"table\" when writing the SQL query for clearer visualization\n",
    "\n",
    "def convert_sql_query_to_bcnod_url (base, query, table_id):\n",
    "    q = query.replace('table', table_id)\n",
    "    q = urllib.parse.quote(q)\n",
    "    return str(base + q)"
   ]
  },
  {
   "cell_type": "code",
   "execution_count": 17,
   "id": "c124d739",
   "metadata": {},
   "outputs": [
    {
     "name": "stdout",
     "output_type": "stream",
     "text": [
      "<class 'pandas.core.frame.DataFrame'>\n",
      "RangeIndex: 684 entries, 0 to 683\n",
      "Data columns (total 18 columns):\n",
      " #   Column          Non-Null Count  Dtype \n",
      "---  ------          --------------  ----- \n",
      " 0   LATITUD         684 non-null    object\n",
      " 1   CODI_CAPA       684 non-null    object\n",
      " 2   _id             684 non-null    int64 \n",
      " 3   DISTRICTE       488 non-null    object\n",
      " 4   ETRS89_COORD_X  684 non-null    object\n",
      " 5   ETRS89_COORD_Y  684 non-null    object\n",
      " 6   NOM_DISTRICTE   684 non-null    object\n",
      " 7   _full_text      684 non-null    object\n",
      " 8   TELEFON         684 non-null    object\n",
      " 9   EQUIPAMENT      684 non-null    object\n",
      " 10  NOM_BARRI       684 non-null    object\n",
      " 11  ADRECA          684 non-null    object\n",
      " 12  NOM_CAPA        684 non-null    object\n",
      " 13  BARRI           488 non-null    object\n",
      " 14  ED50_COORD_Y    684 non-null    object\n",
      " 15  ED50_COORD_X    684 non-null    object\n",
      " 16  CAPA_GENERICA   684 non-null    object\n",
      " 17  LONGITUD        684 non-null    object\n",
      "dtypes: int64(1), object(17)\n",
      "memory usage: 96.3+ KB\n"
     ]
    }
   ],
   "source": [
    "table_id = 'e07dec0d-4aeb-40f3-b987-e1f35e088ce2'\n",
    "sql_query = \"\"\"\n",
    "SELECT * from \"table\" \n",
    "\"\"\"\n",
    "\n",
    "api_url = convert_sql_query_to_bcnod_url (url_base, sql_query, table_id)\n",
    "response = requests.get(api_url).json()\n",
    "df = pd.DataFrame(response['result']['records'])\n",
    "df.info()"
   ]
  },
  {
   "attachments": {},
   "cell_type": "markdown",
   "id": "9b53c57f",
   "metadata": {},
   "source": [
    "# Data cleaning and formatting"
   ]
  },
  {
   "cell_type": "code",
   "execution_count": 18,
   "id": "bf563870",
   "metadata": {},
   "outputs": [
    {
     "name": "stdout",
     "output_type": "stream",
     "text": [
      "<class 'pandas.core.frame.DataFrame'>\n",
      "RangeIndex: 684 entries, 0 to 683\n",
      "Data columns (total 4 columns):\n",
      " #   Column        Non-Null Count  Dtype  \n",
      "---  ------        --------------  -----  \n",
      " 0   EQUIPAMENT    684 non-null    object \n",
      " 1   NOM_CAPA      684 non-null    object \n",
      " 2   EPSG_25831_X  684 non-null    float64\n",
      " 3   EPSG_25831_Y  684 non-null    float64\n",
      "dtypes: float64(2), object(2)\n",
      "memory usage: 21.5+ KB\n"
     ]
    }
   ],
   "source": [
    "#df = df.dropna()\n",
    "\n",
    "# Convert columns values to numeric if possible, otherwise make sure they are stored as strings.\n",
    "columns_to_num = df.columns.tolist()\n",
    "for col in columns_to_num:\n",
    "    try:\n",
    "        df[col] = df[col].astype(str)\n",
    "        df[col] = pd.to_numeric(df[col])\n",
    "    except ValueError:\n",
    "        df[col] = df[col].astype(str)\n",
    "        pass\n",
    "        #raise ('This column is not numeric')        \n",
    "#df.info()\n",
    "\n",
    "# Is it really necessary to delete columns?\n",
    "columns_to_keep = ['LATITUD', 'LONGITUD', 'NOM_CAPA', 'EQUIPAMENT']\n",
    "for c in df.columns:\n",
    "    if (c not in columns_to_keep):\n",
    "        df = df.drop(columns = c)\n",
    "\n",
    "# Add local coordinates   \n",
    "coord_transformer = Transformer.from_crs(\"WGS84\", \"EPSG:25831\") # Coordinate transformer\n",
    "df['EPSG_25831_X'] = coord_transformer.transform(df['LATITUD'].to_list(),df['LONGITUD'].to_list())[0]\n",
    "df['EPSG_25831_Y'] = coord_transformer.transform(df['LATITUD'].to_list(),df['LONGITUD'].to_list())[1]\n",
    "df = df.drop(columns = ['LATITUD', 'LONGITUD'] )\n",
    "df.info()\n"
   ]
  },
  {
   "attachments": {},
   "cell_type": "markdown",
   "id": "593ccc51",
   "metadata": {},
   "source": [
    "# Insert in our database"
   ]
  },
  {
   "cell_type": "code",
   "execution_count": 19,
   "id": "838ead6f",
   "metadata": {},
   "outputs": [
    {
     "name": "stdout",
     "output_type": "stream",
     "text": [
      "MySQL Server connection successful\n",
      "MySQL Database connection test successful\n",
      "Query successful\n"
     ]
    }
   ],
   "source": [
    "f = open('config_file.json')\n",
    "config = json.load(f)\n",
    "table = \"public_transport\"\n",
    "my_db = database(config['host_name'], config['user_name'], config['password'], config['db'])\n",
    "\n",
    "# Create table\n",
    "my_db.execute_query(\"\"\" CREATE TABLE {table}(\n",
    "id INT AUTO_INCREMENT,\n",
    "NAME VARCHAR(65) NOT NULL,\n",
    "TYPE VARCHAR(35) NOT NULL,\n",
    "EPSG_25831_X INT NOT NULL,\n",
    "EPSG_25831_Y INT NOT NULL,\n",
    "PRIMARY KEY (id)\n",
    ")\n",
    "\"\"\".format(table = table))\n"
   ]
  },
  {
   "cell_type": "code",
   "execution_count": 20,
   "id": "b3908c3d",
   "metadata": {
    "scrolled": false
   },
   "outputs": [
    {
     "data": {
      "application/vnd.jupyter.widget-view+json": {
       "model_id": "af7ea844df544d4c9e71bbb70eefc2f3",
       "version_major": 2,
       "version_minor": 0
      },
      "text/plain": [
       "  0%|          | 0/684 [00:00<?, ?it/s]"
      ]
     },
     "metadata": {},
     "output_type": "display_data"
    },
    {
     "name": "stdout",
     "output_type": "stream",
     "text": [
      "Query successful\n"
     ]
    }
   ],
   "source": [
    "#Insert all data\n",
    "col_names = [ 'NAME', 'TYPE', 'EPSG_25831_X', 'EPSG_25831_Y']\n",
    "columns = \", \".join(col_names)\n",
    "\n",
    "query = 'INSERT INTO {table} ({columns}) VALUES '.format(columns = columns, table = table)\n",
    "for row in tqdm(df.index):\n",
    "    vals = \", \".join(\"'{s}'\".format(s=s.replace(\"'\", \"''\")) if isinstance(s, str) else str(s) for s in df.loc[row])\n",
    "    query_line = \"(\" + vals + \") , \"\n",
    "    query = query + query_line\n",
    "    \n",
    "query = query[:-2] + ';'\n",
    "#Insert all rows at once\n",
    "my_db.execute_query(query)"
   ]
  }
 ],
 "metadata": {
  "kernelspec": {
   "display_name": "Python 3 (ipykernel)",
   "language": "python",
   "name": "python3"
  },
  "language_info": {
   "codemirror_mode": {
    "name": "ipython",
    "version": 3
   },
   "file_extension": ".py",
   "mimetype": "text/x-python",
   "name": "python",
   "nbconvert_exporter": "python",
   "pygments_lexer": "ipython3",
   "version": "3.9.13"
  }
 },
 "nbformat": 4,
 "nbformat_minor": 5
}
