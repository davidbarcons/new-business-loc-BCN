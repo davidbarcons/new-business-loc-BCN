{
 "cells": [
  {
   "cell_type": "code",
   "execution_count": 3,
   "id": "8785286a",
   "metadata": {},
   "outputs": [
    {
     "name": "stdout",
     "output_type": "stream",
     "text": [
      "MySQL Server connection successful\n",
      "MySQL Database connection test successful\n"
     ]
    }
   ],
   "source": [
    "import requests\n",
    "import urllib.parse\n",
    "import pandas as pd\n",
    "from pyproj import Transformer, CRS\n",
    "import json\n",
    "from tqdm.notebook import tqdm\n",
    "\n",
    "from database import database\n",
    "\n",
    "f = open('config_file.json')\n",
    "config = json.load(f)\n",
    "my_db = database(config['host_name'], config['user_name'], config['password'], config['db'])\n",
    "\n",
    "from loader_bcn_open_data import loader_bcn_open_data\n",
    "\n",
    "loader = loader_bcn_open_data()\n"
   ]
  },
  {
   "attachments": {},
   "cell_type": "markdown",
   "id": "7b36b7ff",
   "metadata": {},
   "source": [
    "# Table censal_section"
   ]
  },
  {
   "cell_type": "code",
   "execution_count": 4,
   "id": "1ac45884",
   "metadata": {},
   "outputs": [
    {
     "name": "stdout",
     "output_type": "stream",
     "text": [
      "Query successful\n"
     ]
    },
    {
     "data": {
      "application/vnd.jupyter.widget-view+json": {
       "model_id": "c87ba58253dd4e308589236cde72a51a",
       "version_major": 2,
       "version_minor": 0
      },
      "text/plain": [
       "  0%|          | 0/171406 [00:00<?, ?it/s]"
      ]
     },
     "metadata": {},
     "output_type": "display_data"
    },
    {
     "name": "stdout",
     "output_type": "stream",
     "text": [
      "Query successful\n"
     ]
    }
   ],
   "source": [
    "table_id = '50c9b17f-d297-4668-bad4-e1c217580747'\n",
    "table = \"censal_section\"\n",
    "\n",
    "df = loader.get_data(table_id)\n",
    "\n",
    "df = df.dropna()\n",
    "columns_to_delete = ['_id','SECC_EST', '_full_text', 'CODI_CARRER', 'ETRS89_COORD_X','ETRS89_COORD_Y', 'ED50_COORD_X', 'ED50_COORD_Y', 'NUMPOST', 'BARRI', 'DIST_POST', 'TIPUSNUM', 'LLEPOST']\n",
    "df = df.drop(columns = columns_to_delete)\n",
    "    \n",
    "# Add local coordinates   \n",
    "coord_transformer = Transformer.from_crs(\"WGS84\", \"EPSG:25831\") # Coordinate transformer\n",
    "df['EPSG_25831_X'] = coord_transformer.transform(df['LATITUD'].to_list(),df['LONGITUD'].to_list())[0]\n",
    "df['EPSG_25831_Y'] = coord_transformer.transform(df['LATITUD'].to_list(),df['LONGITUD'].to_list())[1]\n",
    "\n",
    "# Create table\n",
    "my_db.execute_query(\"\"\" CREATE TABLE censal_section(\n",
    "id INT AUTO_INCREMENT,\n",
    "DISTRICT INT NOT NULL,\n",
    "CENSAL_SECTION INT NOT NULL,\n",
    "LATITUDE DECIMAL(8,6) NOT NULL,\n",
    "LONGITUDE DECIMAL(8,6) NOT NULL,\n",
    "EPSG_25831_X INT NOT NULL,\n",
    "EPSG_25831_Y INT NOT NULL,\n",
    "PRIMARY KEY (id)\n",
    ")\n",
    "\"\"\")\n",
    "\n",
    "#Insert all data\n",
    "col_names = ['LATITUDE', 'CENSAL_SECTION', 'DISTRICT', 'LONGITUDE', 'EPSG_25831_X', 'EPSG_25831_Y']\n",
    "columns = \", \".join(col_names)\n",
    "\n",
    "query = 'INSERT INTO censal_section ({columns}) VALUES '.format(columns = columns)\n",
    "for row in tqdm(df.index):\n",
    "    vals = \", \".join(\"'{s}'\".format(s=s.replace(\"'\", \"''\")) if isinstance(s, str) else str(s) for s in df.loc[row])\n",
    "    query_line = \"(\" + vals + \") , \"\n",
    "    query = query + query_line\n",
    "    \n",
    "query = query[:-2] + ';'\n",
    "#Insert all rows at once\n",
    "my_db.execute_query(query)"
   ]
  },
  {
   "attachments": {},
   "cell_type": "markdown",
   "id": "b13c5265",
   "metadata": {},
   "source": [
    "# Table demographics"
   ]
  },
  {
   "cell_type": "code",
   "execution_count": null,
   "id": "70427e09",
   "metadata": {},
   "outputs": [],
   "source": [
    "table_id = 'f1d9d5aa-61d7-460e-b423-1bbfff96fab3'\n",
    "table = \"demographics\"\n",
    "\n",
    "df = loader.get_data(table_id)\n",
    "\n",
    "df = df.dropna()\n",
    "\n",
    "# We need to split the censal section and district since in this table it is in a different format\n",
    "df['CENSAL_SECTION'] = df['SECCIO_CENSAL'].str[-3:]\n",
    "df['DISTRICT'] = df['SECCIO_CENSAL'].str[-5:-3]\n",
    "\n",
    "# Delete unnecessary columns\n",
    "columns_to_delete = df.columns[[6,8,10,11]]\n",
    "df = df.drop(columns = columns_to_delete)\n",
    "\n",
    "# Create table\n",
    "my_db.execute_query(\"\"\" CREATE TABLE {table}(\n",
    "id INT AUTO_INCREMENT,\n",
    "DISTRICT INT NOT NULL,\n",
    "CENSAL_SECTION INT NOT NULL,\n",
    "MEN INT NOT NULL,\n",
    "WOMEN INT NOT NULL,\n",
    "AGED_0_TO_14 INT NOT NULL,\n",
    "AGED_15_TO_24 INT NOT NULL,\n",
    "AGED_25_TO_64 INT NOT NULL,\n",
    "AGED_ABOVE_65 INT NOT NULL,\n",
    "NATIONALS INT NOT NULL,\n",
    "EU INT NOT NULL,\n",
    "NON_EU INT NOT NULL,\n",
    "PRIMARY KEY (id)\n",
    ")\n",
    "\"\"\".format(table = table))\n",
    "\n",
    "#Insert all data\n",
    "col_names = ['MEN', 'AGED_0_TO_14', 'AGED_ABOVE_65','WOMEN', 'AGED_25_TO_64', 'EU', 'NATIONALS', 'AGED_15_TO_24', 'NON_EU','CENSAL_SECTION', 'DISTRICT']\n",
    "columns = \", \".join(col_names)\n",
    "\n",
    "query = 'INSERT INTO {table} ({columns}) VALUES '.format(columns = columns, table = table)\n",
    "for row in tqdm(df.index):\n",
    "    vals = \", \".join(\"'{s}'\".format(s=s.replace(\"'\", \"''\")) if isinstance(s, str) else str(s) for s in df.loc[row])\n",
    "    query_line = \"(\" + vals + \") , \"\n",
    "    query = query + query_line\n",
    "    \n",
    "query = query[:-2] + ';'\n",
    "#Insert all rows at once\n",
    "my_db.execute_query(query)"
   ]
  },
  {
   "attachments": {},
   "cell_type": "markdown",
   "id": "2b09d260",
   "metadata": {},
   "source": [
    "# Table hotels"
   ]
  },
  {
   "cell_type": "code",
   "execution_count": null,
   "id": "c2a5eeb7",
   "metadata": {},
   "outputs": [],
   "source": [
    "table_id = '9bccce1b-0b9d-4cc6-94a7-459cb99450de'\n",
    "table = \"hotels\"\n",
    "\n",
    "df = loader.get_data(table_id)\n",
    "\n",
    "columns_to_keep = ['geo_epgs_25831_x', 'geo_epgs_25831_y', 'name']\n",
    "for c in df.columns:\n",
    "    if (c not in columns_to_keep):\n",
    "        df = df.drop(columns = c)\n",
    "\n",
    "# Create table\n",
    "my_db.execute_query(\"\"\" CREATE TABLE {table}(\n",
    "id INT AUTO_INCREMENT,\n",
    "NAME VARCHAR(100) NOT NULL,\n",
    "EPSG_25831_X INT NOT NULL,\n",
    "EPSG_25831_Y INT NOT NULL,\n",
    "PRIMARY KEY (id)\n",
    ")\n",
    "\"\"\".format(table = table))\n",
    "\n",
    "#Insert all data\n",
    "col_names = ['EPSG_25831_X', 'NAME', 'EPSG_25831_Y']\n",
    "columns = \", \".join(col_names)\n",
    "\n",
    "query = 'INSERT INTO {table} ({columns}) VALUES '.format(columns = columns, table = table)\n",
    "for row in tqdm(df.index):\n",
    "    vals = \", \".join(\"'{s}'\".format(s=s.replace(\"'\", \"''\")) if isinstance(s, str) else str(s) for s in df.loc[row])\n",
    "    query_line = \"(\" + vals + \") , \"\n",
    "    query = query + query_line\n",
    "    \n",
    "query = query[:-2] + ';'\n",
    "#Insert all rows at once\n",
    "my_db.execute_query(query)"
   ]
  },
  {
   "attachments": {},
   "cell_type": "markdown",
   "id": "26686c6e",
   "metadata": {},
   "source": [
    "# Table median_gross_income"
   ]
  },
  {
   "cell_type": "code",
   "execution_count": null,
   "id": "217f26ba",
   "metadata": {},
   "outputs": [],
   "source": [
    "table_id = 'ef7e3825-0afd-444e-997f-8a8e999f0fe7'\n",
    "table = \"median_gross_income\"\n",
    "\n",
    "df = loader.get_data(table_id)\n",
    "\n",
    "df = df.dropna()\n",
    "columns_to_delete = df.columns[[1,2,3,5,6,7]]\n",
    "df = df.drop(columns = columns_to_delete)\n",
    "\n",
    "# Create table\n",
    "my_db.execute_query(\"\"\" CREATE TABLE {table}(\n",
    "id INT AUTO_INCREMENT,\n",
    "DISTRICT INT NOT NULL,\n",
    "CENSAL_SECTION INT NOT NULL,\n",
    "MEDIAN_GROSS_INCOME INT NOT NULL,\n",
    "PRIMARY KEY (id)\n",
    ")\n",
    "\"\"\".format(table = table))\n",
    "\n",
    "#Insert all data\n",
    "col_names = ['DISTRICT', 'CENSAL_SECTION', 'MEDIAN_GROSS_INCOME']\n",
    "columns = \", \".join(col_names)\n",
    "\n",
    "query = 'INSERT INTO {table} ({columns}) VALUES '.format(columns = columns, table = table)\n",
    "for row in tqdm(df.index):\n",
    "    vals = \", \".join(\"'{s}'\".format(s=s.replace(\"'\", \"''\")) if isinstance(s, str) else str(s) for s in df.loc[row])\n",
    "    query_line = \"(\" + vals + \") , \"\n",
    "    query = query + query_line\n",
    "    \n",
    "query = query[:-2] + ';'\n",
    "#Insert all rows at once\n",
    "my_db.execute_query(query)"
   ]
  },
  {
   "attachments": {},
   "cell_type": "markdown",
   "id": "e44942cc",
   "metadata": {},
   "source": [
    "# Table medical_centers"
   ]
  },
  {
   "cell_type": "code",
   "execution_count": null,
   "id": "46a8238f",
   "metadata": {},
   "outputs": [],
   "source": [
    "table_id = '9e135848-eb0a-4bc5-8e60-de558213b3ed'\n",
    "table = \"medical_centers\"\n",
    "\n",
    "df = loader.get_data(table_id)\n",
    "\n",
    "columns_to_keep = ['geo_epgs_25831_y', 'geo_epgs_25831_x', 'name', 'secondary_filters_name']\n",
    "for c in df.columns:\n",
    "    if (c not in columns_to_keep):\n",
    "        df = df.drop(columns = c)\n",
    "\n",
    "# Create table\n",
    "my_db.execute_query(\"\"\" CREATE TABLE {table}(\n",
    "id INT AUTO_INCREMENT,\n",
    "NAME VARCHAR(80) NOT NULL,\n",
    "TYPE VARCHAR(60) NOT NULL,\n",
    "EPSG_25831_X INT NOT NULL,\n",
    "EPSG_25831_Y INT NOT NULL,\n",
    "PRIMARY KEY (id)\n",
    ")\n",
    "\"\"\".format(table = table))\n",
    "\n",
    "#Insert all data\n",
    "col_names = [ 'TYPE', 'EPSG_25831_X', 'NAME', 'EPSG_25831_Y']\n",
    "columns = \", \".join(col_names)\n",
    "\n",
    "query = 'INSERT INTO {table} ({columns}) VALUES '.format(columns = columns, table = table)\n",
    "for row in tqdm(df.index):\n",
    "    vals = \", \".join(\"'{s}'\".format(s=s.replace(\"'\", \"''\")) if isinstance(s, str) else str(s) for s in df.loc[row])\n",
    "    query_line = \"(\" + vals + \") , \"\n",
    "    query = query + query_line\n",
    "    \n",
    "query = query[:-2] + ';'\n",
    "#Insert all rows at once\n",
    "my_db.execute_query(query)"
   ]
  },
  {
   "attachments": {},
   "cell_type": "markdown",
   "id": "96a58dab",
   "metadata": {},
   "source": [
    "# Table public_transport"
   ]
  },
  {
   "cell_type": "code",
   "execution_count": null,
   "id": "139fd19c",
   "metadata": {},
   "outputs": [],
   "source": [
    "table_id = 'e07dec0d-4aeb-40f3-b987-e1f35e088ce2'\n",
    "table = \"public_transport\"\n",
    "\n",
    "df = loader.get_data(table_id)\n",
    "\n",
    "columns_to_keep = ['LATITUD', 'LONGITUD', 'NOM_CAPA', 'EQUIPAMENT']\n",
    "for c in df.columns:\n",
    "    if (c not in columns_to_keep):\n",
    "        df = df.drop(columns = c)\n",
    "\n",
    "# Add local coordinates   \n",
    "coord_transformer = Transformer.from_crs(\"WGS84\", \"EPSG:25831\") # Coordinate transformer\n",
    "df['EPSG_25831_X'] = coord_transformer.transform(df['LATITUD'].to_list(),df['LONGITUD'].to_list())[0]\n",
    "df['EPSG_25831_Y'] = coord_transformer.transform(df['LATITUD'].to_list(),df['LONGITUD'].to_list())[1]\n",
    "df = df.drop(columns = ['LATITUD', 'LONGITUD'] )\n",
    "\n",
    "# Create table\n",
    "my_db.execute_query(\"\"\" CREATE TABLE {table}(\n",
    "id INT AUTO_INCREMENT,\n",
    "NAME VARCHAR(65) NOT NULL,\n",
    "TYPE VARCHAR(35) NOT NULL,\n",
    "EPSG_25831_X INT NOT NULL,\n",
    "EPSG_25831_Y INT NOT NULL,\n",
    "PRIMARY KEY (id)\n",
    ")\n",
    "\"\"\".format(table = table))\n",
    "\n",
    "#Insert all data\n",
    "col_names = [ 'NAME', 'TYPE', 'EPSG_25831_X', 'EPSG_25831_Y']\n",
    "columns = \", \".join(col_names)\n",
    "\n",
    "query = 'INSERT INTO {table} ({columns}) VALUES '.format(columns = columns, table = table)\n",
    "for row in tqdm(df.index):\n",
    "    vals = \", \".join(\"'{s}'\".format(s=s.replace(\"'\", \"''\")) if isinstance(s, str) else str(s) for s in df.loc[row])\n",
    "    query_line = \"(\" + vals + \") , \"\n",
    "    query = query + query_line\n",
    "    \n",
    "query = query[:-2] + ';'\n",
    "#Insert all rows at once\n",
    "my_db.execute_query(query)\n"
   ]
  },
  {
   "attachments": {},
   "cell_type": "markdown",
   "id": "d34443a6",
   "metadata": {},
   "source": [
    "# Table tourist_housing"
   ]
  },
  {
   "cell_type": "code",
   "execution_count": null,
   "id": "0305d297",
   "metadata": {},
   "outputs": [],
   "source": [
    "table_id = 'b32fa7f6-d464-403b-8a02-0292a64883bf'\n",
    "table = \"tourist_housing\"\n",
    "\n",
    "df = loader.get_data(table_id)\n",
    "\n",
    "columns_to_keep = ['LATITUD_Y', 'LONGITUD_X', 'NUMERO_PLACES']\n",
    "for c in df.columns:\n",
    "    if (c not in columns_to_keep):\n",
    "        df = df.drop(columns = c)\n",
    "\n",
    "# Add local coordinates   \n",
    "coord_transformer = Transformer.from_crs(\"WGS84\", \"EPSG:25831\") # Coordinate transformer\n",
    "df['EPSG_25831_X'] = coord_transformer.transform(df['LATITUD_Y'].to_list(),df['LONGITUD_X'].to_list())[0]\n",
    "df['EPSG_25831_Y'] = coord_transformer.transform(df['LATITUD_Y'].to_list(),df['LONGITUD_X'].to_list())[1]\n",
    "df = df.drop(columns = ['LATITUD_Y', 'LONGITUD_X'] )\n",
    "\n",
    "# Create table\n",
    "my_db.execute_query(\"\"\" CREATE TABLE {table}(\n",
    "id INT AUTO_INCREMENT,\n",
    "CAPACITY INT NOT NULL,\n",
    "EPSG_25831_X INT NOT NULL,\n",
    "EPSG_25831_Y INT NOT NULL,\n",
    "PRIMARY KEY (id)\n",
    ")\n",
    "\"\"\".format(table = table))\n",
    "\n",
    "#Insert all data\n",
    "col_names = [ 'CAPACITY', 'EPSG_25831_X', 'EPSG_25831_Y']\n",
    "columns = \", \".join(col_names)\n",
    "\n",
    "query = 'INSERT INTO {table} ({columns}) VALUES '.format(columns = columns, table = table)\n",
    "for row in tqdm(df.index):\n",
    "    vals = \", \".join(\"'{s}'\".format(s=s.replace(\"'\", \"''\")) if isinstance(s, str) else str(s) for s in df.loc[row])\n",
    "    query_line = \"(\" + vals + \") , \"\n",
    "    query = query + query_line\n",
    "    \n",
    "query = query[:-2] + ';'\n",
    "#Insert all rows at once\n",
    "my_db.execute_query(query)"
   ]
  },
  {
   "attachments": {},
   "cell_type": "markdown",
   "id": "6ff9fd7c",
   "metadata": {},
   "source": [
    "# Table points_of_interest"
   ]
  },
  {
   "cell_type": "code",
   "execution_count": null,
   "id": "987a7153",
   "metadata": {},
   "outputs": [],
   "source": [
    "table_id = '31431b23-d5b9-42b8-bcd0-a84da9d8c7fa'\n",
    "table = \"points_of_interest\"\n",
    "\n",
    "df = loader.get_data(table_id)\n",
    "\n",
    "# Need to filter\n"
   ]
  }
 ],
 "metadata": {
  "kernelspec": {
   "display_name": "Python 3 (ipykernel)",
   "language": "python",
   "name": "python3"
  },
  "language_info": {
   "codemirror_mode": {
    "name": "ipython",
    "version": 3
   },
   "file_extension": ".py",
   "mimetype": "text/x-python",
   "name": "python",
   "nbconvert_exporter": "python",
   "pygments_lexer": "ipython3",
   "version": "3.9.13"
  }
 },
 "nbformat": 4,
 "nbformat_minor": 5
}
